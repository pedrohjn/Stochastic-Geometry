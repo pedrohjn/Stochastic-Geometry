{
 "cells": [
  {
   "cell_type": "markdown",
   "metadata": {
    "slideshow": {
     "slide_type": "slide"
    }
   },
   "source": [
    "# Lecture 4: Characterization of a point process distribution, distances and typical point                 "
   ]
  },
  {
   "cell_type": "markdown",
   "metadata": {
    "slideshow": {
     "slide_type": "slide"
    }
   },
   "source": [
    "## 1. Characterization of a point process distribution"
   ]
  },
  {
   "cell_type": "markdown",
   "metadata": {
    "slideshow": {
     "slide_type": "fragment"
    }
   },
   "source": [
    "Let us consider the compact set $B \\subset \\mathbb{R}^d$. The distribution of a point process may be characterized by either:\n",
    "\n",
    "- the joint distributions of the variables $N(B)$ (couting measure), or\n",
    "\n",
    "\n",
    "- the marginal distributions of the variables $V(B)$ (vacancy indicator)."
   ]
  },
  {
   "cell_type": "markdown",
   "metadata": {
    "slideshow": {
     "slide_type": "subslide"
    }
   },
   "source": [
    "### 1.1 Finite-dimensional distributions (fidis)"
   ]
  },
  {
   "cell_type": "markdown",
   "metadata": {
    "slideshow": {
     "slide_type": "fragment"
    }
   },
   "source": [
    "**Definition:** The finite-dimensional distributions (fidis)¶of a point process are the joint probability distributions of $\\left(N\\left(B_1\\right),...,N\\left(B_m\\right)\\right)$ for all finite integers $m>0$ and all compact sets $B_1,B_2,...$"
   ]
  },
  {
   "cell_type": "markdown",
   "metadata": {
    "slideshow": {
     "slide_type": "fragment"
    }
   },
   "source": [
    "In other words, the fidis specify the probabilities of all events of the form $ \\left\\{ N\\left(B_1\\right)=k_1,...,N\\left(B_m\\right)=k_m \\right\\}$, involving finitely many regions."
   ]
  },
  {
   "cell_type": "markdown",
   "metadata": {
    "slideshow": {
     "slide_type": "fragment"
    }
   },
   "source": [
    "**Theorem:** Let $\\mathbf{X}$ and $\\mathbf{Y}$ be two point processes. If the fidis of $\\mathbf{X}$ and of $\\mathbf{Y}$ coincide, then $\\mathbf{X}$ and $\\mathbf{Y}$ have the same distribution."
   ]
  },
  {
   "cell_type": "markdown",
   "metadata": {
    "slideshow": {
     "slide_type": "subslide"
    }
   },
   "source": [
    "*Remembering:* **Homogeneous or uniform Poisson point processes**\n",
    "\n",
    "The homogeneous or uniform Poisson point process (PPP), with intensity $\\lambda$, is a point process in $\\mathbb{R}^d$ such that:\n",
    "\n",
    "- [P1] For every compact set $B$, $N(B)$ has a Poisson distribution with mean $\\lambda \\; \\left|B \\right|$;\n",
    "\n",
    "\n",
    "- [P2] If $B_1, B_2,...,B_m$ are disjoint bounded sets, then $N(B_1), N(B_2), ... N(B_m)$ are independent random variables."
   ]
  },
  {
   "cell_type": "markdown",
   "metadata": {
    "slideshow": {
     "slide_type": "fragment"
    }
   },
   "source": [
    "**Corollary:** If $\\mathbf{X}$ is a point process satisfying axioms [P1] and [P2], then $\\mathbf{X}$ is a homogeneous Poisson point process."
   ]
  },
  {
   "cell_type": "markdown",
   "metadata": {
    "slideshow": {
     "slide_type": "subslide"
    }
   },
   "source": [
    "### 1.2 Capacity functional"
   ]
  },
  {
   "cell_type": "markdown",
   "metadata": {
    "slideshow": {
     "slide_type": "fragment"
    }
   },
   "source": [
    "**Definition:** The capacity functional of a simple point process $\\mathbf{X}$ is defined as $T\\left( K\\right)\\triangleq \\mathbb{P}\\left( N\\left( K\\right) > 0 \\right)$ with $K$ compact. "
   ]
  },
  {
   "cell_type": "markdown",
   "metadata": {
    "slideshow": {
     "slide_type": "fragment"
    }
   },
   "source": [
    "Therefore, the capacity functional is the complement of the void probability, i.e. $T\\left( K\\right) = 1 - \\mathbb{P}\\left( N\\left( K\\right) = 0\\right)$"
   ]
  },
  {
   "cell_type": "markdown",
   "metadata": {
    "slideshow": {
     "slide_type": "fragment"
    }
   },
   "source": [
    "**Theorem:** If $\\mathbf{X}$ and $\\mathbf{Y}$ are two simple point processes whose capacity funcitonals are identical. Then their distributions are identical."
   ]
  },
  {
   "cell_type": "markdown",
   "metadata": {
    "slideshow": {
     "slide_type": "subslide"
    }
   },
   "source": [
    "**Prove the following:**"
   ]
  },
  {
   "cell_type": "markdown",
   "metadata": {
    "slideshow": {
     "slide_type": "fragment"
    }
   },
   "source": [
    "**Corollary:** A simple point process is a homogeneous Poisson point process of intensity $\\lambda$ if and only if its capacity functional is $T\\left( K\\right) = 1 - e^{-\\lambda \\left|K\\right|}$ for all compact $K \\subset \\mathbb{R}^d$.\n",
    "\n",
    "*Hint:* $\\mathbb{P}\\left( N(W) = n \\right) = e^{-\\lambda \\left|W \\right|} \\; \\dfrac{\\left(\\lambda \\left|W \\right| \\right)^n}{n!}$"
   ]
  },
  {
   "cell_type": "markdown",
   "metadata": {
    "slideshow": {
     "slide_type": "fragment"
    }
   },
   "source": [
    "**Corollary:** A simple point process is a homogeneous binomial point process of $n$ points in $W \\subset \\mathbb{R}^d$ if and only if its capacity functional  is $T\\left( K\\right) = 1 - \\left( 1- \\dfrac{\\left|K \\cap W \\right|}{\\left|W\\right|} \\right)^n$ for all compact $K \\subset \\mathbb{R}^d$.\n",
    "\n",
    "*Hint:* $\\mathbb{P}\\left(N(B) = k \\right) = \\left( \\begin{array}{c} n \\\\ k \\end{array} \\right) \\; p^k \\; (1-p)^{n-k}$, where $p = \\dfrac{\\left|B \\cap W \\right|}{ \\left|W \\right|}$."
   ]
  },
  {
   "cell_type": "markdown",
   "metadata": {
    "slideshow": {
     "slide_type": "subslide"
    }
   },
   "source": [
    "### 1.3 Stationary"
   ]
  },
  {
   "cell_type": "markdown",
   "metadata": {
    "slideshow": {
     "slide_type": "fragment"
    }
   },
   "source": [
    "**Definition:** A point process $\\mathbf{X}$ in $\\mathbb{R}^d$ is called *stationary* if, for any fixed vector $v \\in \\mathbb{R}^d$, the distribution of the shifited point process $\\mathbf{X} + v$, i.e. shifting each point $x \\in \\mathbf{X}$ to $x + v$, is identical to the distribution of $\\mathbf{X}$."
   ]
  },
  {
   "cell_type": "markdown",
   "metadata": {
    "slideshow": {
     "slide_type": "fragment"
    }
   },
   "source": [
    "**Lemma:** A point process is stationary if and only if its capacity functional is invariant under translations. Mathematically: $T\\left( K\\right) = T\\left( K + v\\right)$ for all compact set $K \\subset \\mathbb{R}^d$ and all $v \\in \\mathbb{R}^d$."
   ]
  },
  {
   "cell_type": "markdown",
   "metadata": {
    "slideshow": {
     "slide_type": "fragment"
    }
   },
   "source": [
    "**Property:** The homogeneous Poisson point process is stationary since its capacity functional is invariant under translation."
   ]
  },
  {
   "cell_type": "markdown",
   "metadata": {
    "slideshow": {
     "slide_type": "slide"
    }
   },
   "source": [
    "## 2. Distances"
   ]
  },
  {
   "cell_type": "markdown",
   "metadata": {
    "slideshow": {
     "slide_type": "fragment"
    }
   },
   "source": [
    "**Definition:** If $\\mathbf{X}$ is a point process in $\\mathbb{R}^d$, let $\\mathrm{dist}\\left(u,\\mathbf{X}\\right)$ for $u \\in \\mathbb{R}^d$ denote the shortest distance from a given location $u$ to the nearest point of $\\mathbf{X}$. This is also called *contact distance*."
   ]
  },
  {
   "cell_type": "markdown",
   "metadata": {
    "slideshow": {
     "slide_type": "fragment"
    }
   },
   "source": [
    "**Property:** Let $b(u,r)$ denote the disc of radius $r$ centered at the point $u$. Then, $\\mathrm{dist}\\left(u,\\mathbf{X}\\right) \\leq r$ if and only if $N\\left( b(u,r)  \\right) > 0$."
   ]
  },
  {
   "cell_type": "code",
   "execution_count": 1,
   "metadata": {
    "collapsed": false,
    "slideshow": {
     "slide_type": "fragment"
    }
   },
   "outputs": [
    {
     "data": {
      "image/png": "[encoded data removed]",
      "text/plain": [
       "<IPython.core.display.Image object>"
      ]
     },
     "execution_count": 1,
     "metadata": {},
     "output_type": "execute_result"
    }
   ],
   "source": [
    "from IPython.display import Image\n",
    "Image(filename='fig.png')"
   ]
  },
  {
   "cell_type": "markdown",
   "metadata": {
    "slideshow": {
     "slide_type": "subslide"
    }
   },
   "source": [
    "**Prove the following:**\n",
    "\n"
   ]
  },
  {
   "cell_type": "markdown",
   "metadata": {
    "slideshow": {
     "slide_type": "fragment"
    }
   },
   "source": [
    "**Property:** If $\\mathbf{X}$ is a homogeneous Poisson point process in $\\mathbb{R}^2$ with intensity $\\lambda$, then\n",
    "$\\mathbb{P}\\left( \\mathrm{dist}\\left(u,\\mathbf{X}\\right) \\leq r \\right) = 1 - e^{-\\lambda \\pi r^2}$"
   ]
  },
  {
   "cell_type": "markdown",
   "metadata": {
    "slideshow": {
     "slide_type": "fragment"
    }
   },
   "source": [
    "**Property:** If $\\mathbf{X}$ is a stationary point process in $\\mathbb{R}^d$, then the contact distance function or empty space function $F(r) = \\mathbb{P}\\left( \\mathrm{dist}\\left(u,\\mathbf{X}\\right) \\leq r \\right)$ does not depend on $u$."
   ]
  },
  {
   "cell_type": "markdown",
   "metadata": {
    "slideshow": {
     "slide_type": "slide"
    }
   },
   "source": [
    "## 3. Typical point"
   ]
  },
  {
   "cell_type": "markdown",
   "metadata": {
    "slideshow": {
     "slide_type": "subslide"
    }
   },
   "source": [
    "Previously, we discussed about the distances between one given point $u$ to the nearest point part of the process $\\mathbf{X}$.\n",
    "\n",
    "Now we turn our attention to the distance between points of $\\mathbf{X}$. So we would like to answer the following: "
   ]
  },
  {
   "cell_type": "markdown",
   "metadata": {
    "slideshow": {
     "slide_type": "fragment"
    }
   },
   "source": [
    "**What is the probability distribution of the distance from a point of $\\mathbf{X}$ to its nearest other point of $\\mathbf{X}$?**\n",
    "\n",
    "If $x$ is known to be a point of $\\mathbf{X}$, then the nearest neighbor distance is $\\mathrm{dist}\\left(x,\\mathbf{X}\\right \\backslash \\; x)$ and we want to find: $\\mathbb{P}\\left( \\mathrm{dist}\\left(x,\\mathbf{X}\\right \\backslash \\; x) \\leq r  \\mid \\; x \\in \\mathbf{X} \\right)$."
   ]
  },
  {
   "cell_type": "markdown",
   "metadata": {
    "slideshow": {
     "slide_type": "fragment"
    }
   },
   "source": [
    "The problem is that the event $\\left\\{ x \\in \\mathbf{X}\\right\\}$ typically has probability 0."
   ]
  },
  {
   "cell_type": "markdown",
   "metadata": {
    "slideshow": {
     "slide_type": "subslide"
    }
   },
   "source": [
    "When dealing with basic point processes such as binomial and Poisson, this question can be solved using classical methods.\n",
    "\n",
    "A general theory on that was developed by C. Palm and we are not going to deal with it during this course."
   ]
  },
  {
   "cell_type": "markdown",
   "metadata": {
    "slideshow": {
     "slide_type": "fragment"
    }
   },
   "source": [
    "**Exercise:** Let $\\mathbf{X}$ be a homogeneous Poisson point process in $\\mathbb{R}^2$ with density $\\lambda$. What is $\\mathbb{P}\\left( \\mathrm{dist}\\left(x,\\mathbf{X}\\right \\backslash \\; x) \\leq r  \\mid \\; x \\in \\mathbf{X} \\right)$?\n",
    "\n",
    "*Hint 1:* For a stationary point process, it is sufficient to consider $x = \\{0,0\\}$, that is, $x$ is located at the origin 0.\n",
    "\n",
    "*Hint 2:* It is useful to consider a region $U = b(0, \\epsilon)$ such that $\\epsilon >0$ and define $R_{(\\epsilon)} = \\mathrm{dist}\\left(0,\\mathbf{X}\\right \\backslash \\; U)$.\n",
    "\n",
    "\n",
    "*Suggestion:* It is interesting to compare the results from equation obtained here with simulation of this process."
   ]
  },
  {
   "cell_type": "markdown",
   "metadata": {
    "slideshow": {
     "slide_type": "slide"
    }
   },
   "source": [
    "## 4. Simulation vs. analysis"
   ]
  },
  {
   "cell_type": "markdown",
   "metadata": {},
   "source": [
    "Let us test the results obtained from the previous exercise. \n",
    "\n",
    "- CDF: $F_{R_1}(r) = 1 -e^{-\\lambda \\pi r^2}$\n",
    "\n",
    "\n",
    "- PDF: $f_{R_1}(r) = 2 \\pi r \\lambda \\; e^{-\\lambda \\pi r^2}$"
   ]
  },
  {
   "cell_type": "code",
   "execution_count": 4,
   "metadata": {
    "collapsed": false
   },
   "outputs": [],
   "source": [
    "import numpy as np\n",
    "from scipy.spatial import distance\n",
    "#Square side: L\n",
    "L = 10\n",
    "#Average number of points (Poisson)\n",
    "x_average_PPP = 25\n",
    "#\n",
    "num_realizations = 10000\n",
    "nearest_point = np.zeros(num_realizations)\n",
    "nearest_point_arbitrary = np.zeros(num_realizations)\n",
    "\n",
    "for count in range(0, num_realizations):\n",
    "    #Number of points N that is a Poisson random variable \n",
    "    x_realization_PPP = np.random.poisson(x_average_PPP,1)\n",
    "    #Random points in axis x\n",
    "    position_x_realization_PPP =  np.random.uniform(0,L,x_realization_PPP)\n",
    "    #Random points in axis y\n",
    "    position_y_realization_PPP = np.random.uniform(0,L,x_realization_PPP) \n",
    "    #Manipulating arrays\n",
    "    position_x_realization_PPP_t=np.transpose(position_x_realization_PPP)\n",
    "    position_y_realization_PPP_t=np.transpose(position_y_realization_PPP)\n",
    "    position_final = []\n",
    "    position_final = [[position_x_realization_PPP_t[ix], position_y_realization_PPP_t[ix]] for ix in range(0, x_realization_PPP)]\n",
    "    #Distances to the origin (L/2,L/2)\n",
    "    distances_to_origin = [distance.euclidean(position_final[ix],[L/2,L/2]) for ix in range(0, x_realization_PPP)]\n",
    "    #Distances to arbitrary (x,y) - always get the first in the position vector\n",
    "    distances_to_arbitrary = [distance.euclidean(position_final[ix],position_final[0]) for ix in range(1, x_realization_PPP)]\n",
    "    #Ordering distances\n",
    "    ordered_dists = np.sort(distances_to_origin)\n",
    "    ordered_dists_arbitrary = np.sort(distances_to_arbitrary)\n",
    "    #Getting the nearest\n",
    "    nearest_point[count] = ordered_dists[0]\n",
    "    nearest_point_arbitrary[count] = ordered_dists_arbitrary[0]\n",
    "    count = count + 1\n",
    "    \n",
    "#print nearest_point_arbitrary\n",
    "#print nearest_point"
   ]
  },
  {
   "cell_type": "code",
   "execution_count": 5,
   "metadata": {
    "collapsed": false
   },
   "outputs": [
    {
     "data": {
      "image/png": "[encoded data removed]",
      "text/plain": [
       "<matplotlib.figure.Figure at 0x7f0b6d939790>"
      ]
     },
     "metadata": {},
     "output_type": "display_data"
    }
   ],
   "source": [
    "#Testing cdf\n",
    "import numpy as np\n",
    "import statsmodels.api as sm # recommended import according to the docs\n",
    "import matplotlib.pyplot as plt\n",
    "#\n",
    "ecdf = sm.distributions.ECDF(nearest_point)\n",
    "plt.figure(figsize=(10,8), dpi=1200)\n",
    "#x = np.linspace(min(nearest_point), max(nearest_point))\n",
    "x = np.linspace(min(nearest_point_arbitrary), max(nearest_point_arbitrary))\n",
    "y = ecdf(x)\n",
    "plt.plot(x, y)\n",
    "x = np.linspace(0,3,100)\n",
    "plt.plot(x, 1 - np.exp(- (x**2) * np.pi * x_average_PPP/(L**2)))\n",
    "plt.show()"
   ]
  },
  {
   "cell_type": "code",
   "execution_count": 6,
   "metadata": {
    "collapsed": false
   },
   "outputs": [
    {
     "data": {
      "image/png": "[encoded data removed]",
      "text/plain": [
       "<matplotlib.figure.Figure at 0x7f0b74e365d0>"
      ]
     },
     "metadata": {},
     "output_type": "display_data"
    }
   ],
   "source": [
    "#Testing pdf\n",
    "from __future__ import division\n",
    "x = np.linspace(0,5,100)\n",
    "#\n",
    "plt.figure(figsize=(10,8), dpi=1200)\n",
    "#plt.hist(nearest_point,normed=True, color=\"#6495ED\")\n",
    "plt.hist(nearest_point_arbitrary,normed=True, color=\"#6495ED\")\n",
    "#\n",
    "plt.plot(x, 2 * np.pi * x * (x_average_PPP/(L**2)) * np.exp(- (x**2) * np.pi * (x_average_PPP/(L**2))), '-')\n",
    "plt.show()"
   ]
  },
  {
   "cell_type": "markdown",
   "metadata": {
    "slideshow": {
     "slide_type": "fragment"
    }
   },
   "source": [
    "*Question:* I did 1000 realizations. What would happen if I set for instance 10000?\n",
    "\n",
    "\n",
    "*Challenge:* I have implemented this considering the typical point located at $(0,0)$. And if the I take an arbitrary point of the process, would I have the same?"
   ]
  },
  {
   "cell_type": "markdown",
   "metadata": {
    "slideshow": {
     "slide_type": "slide"
    }
   },
   "source": [
    "## 5. References"
   ]
  },
  {
   "cell_type": "markdown",
   "metadata": {
    "slideshow": {
     "slide_type": "subslide"
    }
   },
   "source": [
    "[1] A. Baddeley, *Spatial Point Processes and their Applications*, pages 12-16, 21-22 and 42-44.\n",
    "\n",
    "[2] M. Haenggi, *Stochastic Geometry for Wireless Networks*, pages 24-34, 38-39 and 152-157."
   ]
  },
  {
   "cell_type": "markdown",
   "metadata": {},
   "source": [
    "<a rel=\"license\" href=\"http://creativecommons.org/licenses/by-nc/4.0/\"><img alt=\"Creative Commons License\" style=\"border-width:0\" src=\"https://i.creativecommons.org/l/by-nc/4.0/88x31.png\" /></a><br />This work is licensed under a <a rel=\"license\" href=\"http://creativecommons.org/licenses/by-nc/4.0/\">Creative Commons Attribution-NonCommercial 4.0 International License</a>."
   ]
  },
  {
   "cell_type": "code",
   "execution_count": null,
   "metadata": {
    "collapsed": true
   },
   "outputs": [],
   "source": []
  }
 ],
 "metadata": {
  "kernelspec": {
   "display_name": "Python 2 (SageMath)",
   "language": "python",
   "name": "python2"
  },
  "language_info": {
   "codemirror_mode": {
    "name": "ipython",
    "version": 2
   },
   "file_extension": ".py",
   "mimetype": "text/x-python",
   "name": "python",
   "nbconvert_exporter": "python",
   "pygments_lexer": "ipython2",
   "version": "2.7.10"
  },
  "name": "lecture4.ipynb"
 },
 "nbformat": 4,
 "nbformat_minor": 0
}
