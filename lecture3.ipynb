{
 "cells": [
  {
   "cell_type": "markdown",
   "metadata": {
    "slideshow": {
     "slide_type": "slide"
    }
   },
   "source": [
    "# Lecture 3: Formal characterization of spatial point processes                 "
   ]
  },
  {
   "cell_type": "markdown",
   "metadata": {
    "slideshow": {
     "slide_type": "slide"
    }
   },
   "source": [
    "## 1. 1-D point processes"
   ]
  },
  {
   "cell_type": "markdown",
   "metadata": {
    "slideshow": {
     "slide_type": "subslide"
    }
   },
   "source": [
    "Let us discuss mathematical ways to characterize 1-D point processes."
   ]
  },
  {
   "cell_type": "code",
   "execution_count": 1,
   "metadata": {
    "collapsed": false,
    "slideshow": {
     "slide_type": "fragment"
    }
   },
   "outputs": [
    {
     "data": {
      "image/png": "[encoded data removed]",
      "text/plain": [
       "<matplotlib.figure.Figure at 0x7f10d3df7410>"
      ]
     },
     "metadata": {},
     "output_type": "display_data"
    }
   ],
   "source": [
    "#Uploading library\n",
    "import numpy as np\n",
    "#1-D point process with N Poisson distributed points\n",
    "N_PPP = 100\n",
    "N = np.random.poisson(N_PPP,1)\n",
    "#Length: L\n",
    "L = 20\n",
    "#Random points in axis x\n",
    "position_x = np.random.uniform(0,L,N)\n",
    "#Ploting in 1D and the points\n",
    "from matplotlib import pyplot as plt\n",
    "import numpy as np\n",
    "plt.figure(figsize=(16,2), dpi=1200)\n",
    "plt.hlines(1,0,L)  # Draw a horizontal line\n",
    "plt.xlim(0,L)\n",
    "plt.ylim(0.5,1.5)\n",
    "y = np.ones(N)   # Make all y values the same\n",
    "plt.plot(position_x,y,'|',ms = 40)  # Plot a line at each location specified in a\n",
    "plt.axis([0,L,0.5,1.5])\n",
    "plt.xticks(np.arange(0, L+1, 1))\n",
    "plt.gca().yaxis.set_major_locator(plt.NullLocator())\n",
    "plt.show()"
   ]
  },
  {
   "cell_type": "markdown",
   "metadata": {
    "slideshow": {
     "slide_type": "fragment"
    }
   },
   "source": [
    "**First idea:** Each random point is related to arrival times such that $t_1 < t_2 < ... < t_N$. The problem is that we are *ordering* the points $t_i$ and therefore creating a strong dependence since $t_i<t_{i+1}$"
   ]
  },
  {
   "cell_type": "code",
   "execution_count": 2,
   "metadata": {
    "collapsed": false
   },
   "outputs": [],
   "source": [
    "t = sorted(position_x)\n",
    "#print t"
   ]
  },
  {
   "cell_type": "markdown",
   "metadata": {
    "slideshow": {
     "slide_type": "subslide"
    }
   },
   "source": [
    "**Approach 1:** Inter-arrival times $S_i = t_{i+1} - t_i$. If $t_i$ is Poisson, then $S_i$ are *independent* random variables (nice property). \n",
    "\n",
    "Note: Inter-arrival distribution of the random varible $S_i$ when the arrival times $t_i$ is Poisson distributed follows an *exponential distribution*. Its pdf is $ f(x) = \\lambda e^{-\\lambda x}$ where $\\lambda$ is the density of points $N/L$ points per units of time."
   ]
  },
  {
   "cell_type": "code",
   "execution_count": 5,
   "metadata": {
    "collapsed": false,
    "slideshow": {
     "slide_type": "fragment"
    }
   },
   "outputs": [
    {
     "data": {
      "image/png": "[encoded data removed]",
      "text/plain": [
       "<matplotlib.figure.Figure at 0x7f10d130b150>"
      ]
     },
     "metadata": {},
     "output_type": "display_data"
    }
   ],
   "source": [
    "import copy\n",
    "#Testing\n",
    "#Generating the intial array\n",
    "S = np.zeros(N-1)\n",
    "#Initial state t_0 = 0\n",
    "S[0] = copy.copy(t[0])\n",
    "for i in range(1, N-1):\n",
    "    S[i] = t[i+1] - t[i]\n",
    "#print S\n",
    "#Plot the empirical distribution solely based on this realization\n",
    "from scipy.stats import poisson\n",
    "from __future__ import division\n",
    "x = np.linspace(0,5,100)\n",
    "#print x\n",
    "plt.figure(figsize=(10,8), dpi=1200)\n",
    "plt.hist(S,normed=True, color=\"#6495ED\")\n",
    "plt.plot(x, N_PPP/L * np.exp(-x * N_PPP/L), '-')\n",
    "plt.show()"
   ]
  },
  {
   "cell_type": "markdown",
   "metadata": {},
   "source": [
    "**Approach 2:** Counting process $N_T$ that represents the number of points arriving up to time $T$. Mathematically:\n",
    "$N_T = \\sum\\limits_{i=1}^N \\mathbb{1}\\{ t_i \\leq T\\}$, where $\\mathbb{1}\\{\\cdot\\}$ is the indicator function that is equal to 1 when the statement in \"$\\cdot$\" is true.\n",
    "\n"
   ]
  },
  {
   "cell_type": "code",
   "execution_count": 6,
   "metadata": {
    "collapsed": false
   },
   "outputs": [
    {
     "data": {
      "image/png": "[encoded data removed]",
      "text/plain": [
       "<matplotlib.figure.Figure at 0x7f10d34a8210>"
      ]
     },
     "metadata": {},
     "output_type": "display_data"
    }
   ],
   "source": [
    "plt.figure(figsize=(10,8), dpi=1200)\n",
    "plt.step(t,np.linspace(0,N,N), '--')\n",
    "plt.show()"
   ]
  },
  {
   "cell_type": "markdown",
   "metadata": {},
   "source": [
    "**Approach 3:** Interval counts: $N(a,b] = N_b - N_a$ for $0 \\leq a \\leq b$. For Poisson processes, the interval counts for *disjoint* intervals are *stochastically independent*.\n",
    "\n"
   ]
  },
  {
   "cell_type": "code",
   "execution_count": 7,
   "metadata": {
    "collapsed": false
   },
   "outputs": [
    {
     "data": {
      "image/png": "[encoded data removed]",
      "text/plain": [
       "<matplotlib.figure.Figure at 0x7f10d348a790>"
      ]
     },
     "metadata": {},
     "output_type": "display_data"
    }
   ],
   "source": [
    "from matplotlib import pyplot as plt\n",
    "import numpy as np\n",
    "from pylab import *\n",
    "plt.figure(figsize=(16,2), dpi=1200)\n",
    "plt.hlines(1,0,L)  # Draw a horizontal line\n",
    "plt.xlim(0,L)\n",
    "plt.ylim(0.5,1.5)\n",
    "y = np.ones(N)   # Make all y values the same\n",
    "plt.plot(position_x,y,'|',ms = 40)  # Plot a line at each location specified in a\n",
    "plt.plot([4, 10],[1,1],'| k',ms = 100)  # Plot a line at each location specified in a\n",
    "plt.axis([0,L,0.5,1.5])\n",
    "plt.xticks(np.arange(0, L+1, 1))\n",
    "plt.gca().yaxis.set_major_locator(plt.NullLocator())\n",
    "plt.text(10.1, 0.6, '$b$', fontsize=20)\n",
    "plt.text(4.1, 0.6, '$a$', fontsize=20)\n",
    "plt.show()"
   ]
  },
  {
   "cell_type": "markdown",
   "metadata": {},
   "source": [
    "## 2. Higher dimensional point processes"
   ]
  },
  {
   "cell_type": "markdown",
   "metadata": {
    "slideshow": {
     "slide_type": "subslide"
    }
   },
   "source": [
    "How should we proceed in higher dimensions? Let us start with 2-D point processes.\n",
    "\n",
    "**Approach 1:** Couting the number of points $N(A)$ that falls in a closed region $A \\subset \\mathbb{R}^2$."
   ]
  },
  {
   "cell_type": "code",
   "execution_count": 8,
   "metadata": {
    "collapsed": false,
    "slideshow": {
     "slide_type": "fragment"
    }
   },
   "outputs": [
    {
     "data": {
      "image/png": "[encoded data removed]",
      "text/plain": [
       "<matplotlib.figure.Figure at 0x7f10c71d22d0>"
      ]
     },
     "metadata": {},
     "output_type": "display_data"
    }
   ],
   "source": [
    "from matplotlib import pyplot as plt\n",
    "import numpy as np\n",
    "#Square side: L2\n",
    "L2 = 10\n",
    "#Average number of points (Poisson)\n",
    "x_average_PPP = 100\n",
    "#Number of points N that is a Poisson random variable \n",
    "x_realization_PPP = np.random.poisson(x_average_PPP,1)\n",
    "#Random points in axis x\n",
    "position_x_realization_PPP =  np.random.uniform(0,L2,x_realization_PPP)\n",
    "#Random points in axis y\n",
    "position_y_realization_PPP = np.random.uniform(0,L2,x_realization_PPP) \n",
    "#Plot commands\n",
    "plt.figure(figsize=(15,15), dpi=1200)\n",
    "plt.plot(position_x_realization_PPP, position_y_realization_PPP, marker='.', color='b',linestyle = '')\n",
    "#Region A\n",
    "circle = plt.Circle((4, 6), radius=1.75, fc='y')\n",
    "plt.gca().add_patch(circle)\n",
    "plt.text(5, 5, '$A$', fontsize=20)\n",
    "#\n",
    "plt.axis('off')\n",
    "plt.show()"
   ]
  },
  {
   "cell_type": "markdown",
   "metadata": {
    "slideshow": {
     "slide_type": "subslide"
    }
   },
   "source": [
    "**Approach 2:** Other rather surprising way to characterize point processes is using the *vacancy indicator* $V(B)$ where $B$ is a closed set and $B \\subset \\mathbb{R}^2$. Mathematically: $V(B) = \\mathbb{1}\\{N(B) = 0\\}$."
   ]
  },
  {
   "cell_type": "code",
   "execution_count": 9,
   "metadata": {
    "collapsed": false,
    "slideshow": {
     "slide_type": "fragment"
    }
   },
   "outputs": [
    {
     "data": {
      "image/png": "[encoded data removed]",
      "text/plain": [
       "<matplotlib.figure.Figure at 0x7f10c6f25a50>"
      ]
     },
     "metadata": {},
     "output_type": "display_data"
    }
   ],
   "source": [
    "#Using the same plot as before. If you are running the program, remember that you need to define by yourself the vacancy (circle2)\n",
    "plt.figure(figsize=(15,15), dpi=1200)\n",
    "plt.plot(position_x_realization_PPP, position_y_realization_PPP, marker='.', color='b',linestyle = '')\n",
    "#Region A\n",
    "circle = plt.Circle((4, 6), radius=1.75, fc='y')\n",
    "plt.gca().add_patch(circle)\n",
    "plt.text(5, 5, '$A$', fontsize=20)\n",
    "#Vacancy - region B\n",
    "circle2 = plt.Circle((2, 2.1), radius=1, fc='g')\n",
    "plt.gca().add_patch(circle2)\n",
    "plt.text(2.3, 1.4, '$B$', fontsize=20)\n",
    "#\n",
    "plt.axis('off')\n",
    "plt.show()"
   ]
  },
  {
   "cell_type": "markdown",
   "metadata": {},
   "source": [
    "## 3. Foundations"
   ]
  },
  {
   "cell_type": "markdown",
   "metadata": {},
   "source": [
    "### 3.1 Random measure formalism"
   ]
  },
  {
   "cell_type": "markdown",
   "metadata": {},
   "source": [
    "Point processes are characterized by $N(A)$ such that $A \\subset \\mathbb{R}^d$. In this case $N(A)$ - which is called *couting measure* - is a random variable that assumes *non-negative integer* values.\n",
    "\n",
    "**Few properties**\n",
    "\n",
    "- $N( A \\cup B) = N(A) + N(B) - N(A \\cap B)$ for any set $A$, $B$\n",
    "\n",
    "- $N( A \\cup B) = N(A) + N(B)$ whenever $A \\cap B = \\emptyset$ (i.e. disjoint sets)\n",
    "\n",
    "- $N( \\emptyset) = 0$\n",
    "\n",
    "- $N(A) < \\infty$ with probability 1 if the point process is assumed *locally finite* for all bouded $A \\subset \\mathbb{R}^d$\n",
    "\n",
    "- $N( \\{x\\}) \\leq 1$ for all $x \\in \\mathbb{R}^d$ with probability 1 if the point process is assumed *simple* (no two points of the process are coincident)"
   ]
  },
  {
   "cell_type": "markdown",
   "metadata": {
    "slideshow": {
     "slide_type": "slide"
    }
   },
   "source": [
    "### 3.2 Random set formalism"
   ]
  },
  {
   "cell_type": "markdown",
   "metadata": {
    "slideshow": {
     "slide_type": "subslide"
    }
   },
   "source": [
    "Point processes are characterized as a *countable random sets* $\\Phi = \\{ x_1, x_2,...\\} \\subset \\mathbb{R}^d$. If we know the vacancy indicators $V(B)$ for all sets $B$, then we can know the exact loaciton of all points $x_1, x_2,...$ of $\\Phi$ (if the process is simple). Mathematically: $\\Phi = \\mathbb{R}^d \\; \\backslash \\bigcup \\{ B \\subset \\mathbb{R}^d: V(B) =1\\}$.\n",
    "\n",
    "**Property:** $V( A \\cup B) = V(A)V(B) = \\min \\{ V(A), V(B)\\} $ for any set $A$, $B$"
   ]
  },
  {
   "cell_type": "markdown",
   "metadata": {},
   "source": [
    "### 3.3 Duality         "
   ]
  },
  {
   "cell_type": "markdown",
   "metadata": {},
   "source": [
    "There exists a duality between the two formalisms:\n",
    "\n",
    "- $N(B) = $ number of points falling in  $\\Phi \\cap B$\n",
    "- $\\Phi = \\{ x \\in \\mathbb{R}^d: N( \\{x\\}) = 1\\}$"
   ]
  },
  {
   "cell_type": "markdown",
   "metadata": {
    "slideshow": {
     "slide_type": "slide"
    }
   },
   "source": [
    "### 3.4 Superposition"
   ]
  },
  {
   "cell_type": "markdown",
   "metadata": {
    "slideshow": {
     "slide_type": "subslide"
    }
   },
   "source": [
    "Let us consider two point processes that are marked with different colors: red and blue. Then, the superposed point process has the following properties:\n",
    "\n",
    "- $N(B) = N_\\mathrm{red}(B) +  N_\\mathrm{blue}(B) \\\\$ \n",
    "\n",
    "- $V(B) = V_\\mathrm{red}(B)V_\\mathrm{blue}(B)$"
   ]
  },
  {
   "cell_type": "markdown",
   "metadata": {
    "slideshow": {
     "slide_type": "slide"
    }
   },
   "source": [
    "## 4. Example"
   ]
  },
  {
   "cell_type": "markdown",
   "metadata": {
    "slideshow": {
     "slide_type": "subslide"
    }
   },
   "source": [
    "**Homogeneous or uniform Poisson point processes**\n",
    "\n",
    "The homogeneous or uniform Poisson point process (PPP), with intensity $\\lambda$, is a point process in $\\mathbb{R}^d$ such that:\n",
    "\n",
    "- [P1] For every compact set $B$, $N(B)$ has a Poisson distribution with mean $\\lambda \\; \\left|B \\right|$;\n",
    "\n",
    "\n",
    "- [P2] If $B_1, B_2,...,B_m$ are disjoint bounded sets, then $N(B_1), N(B_2), ... N(B_m)$ are independent random variables.\n",
    "\n",
    "Note that $|\\cdot|$ refers to the area of $B$ if the PPP is 2-dimension.\n",
    "\n",
    "**Uniform binomial point process**\n",
    "\n",
    "Let $\\Phi = \\{x_1,...,x_n\\} \\subset W \\subset \\mathbb{R}^d$ be apoint process with a fixed and finite number $n$ of points on the bounded region $W$. Then $\\Phi$ is a uniform binomial point process (BPP) if and only if $\\Phi$, viewed as a random vector, is uniformly distributed in $W^n$. \n",
    "\n"
   ]
  },
  {
   "cell_type": "markdown",
   "metadata": {},
   "source": [
    "## 5. Exercise: Prove the following"
   ]
  },
  {
   "cell_type": "markdown",
   "metadata": {},
   "source": [
    "**Theorem (Conditional property for Poisson point processes):** Consider a homogeneous PPP in $\\mathbb{R}^d$ with intensity $\\lambda > 0$. Let $W \\subset \\mathbb{R}^d$ be any subset with $0<\\left|B \\right|< \\infty$. Given that $N(W) = n$, the conditional distribution of $N(B)$ for $B \\subseteq W$ is binomial:\n",
    "\n",
    "$\\mathbb{P}\\left(N(B) = k \\mid \\; N(W) = n\\right) = \\left( \\begin{array}{c} n \\\\ k \\end{array} \\right) \\; p^k \\; (1-p)^{n-k}$, where $p = \\dfrac{\\left|B \\right|}{ \\left|W \\right|}$.\n",
    "\n",
    "*Hint (PPP):* $\\mathbb{P}\\left( N(W) = n \\right) = e^{-\\lambda \\left|W \\right|} \\; \\dfrac{\\left(\\lambda \\left|W \\right| \\right)^n}{n!}$."
   ]
  },
  {
   "cell_type": "markdown",
   "metadata": {},
   "source": [
    "## 6. References"
   ]
  },
  {
   "cell_type": "markdown",
   "metadata": {},
   "source": [
    "[1] A. Baddeley, *Spatial Point Processes and their Applications*, pages 1-21.\n",
    "\n",
    "[2] M. Haenggi, *Stochastic Geometry for Wireless Networks*, pages 9-21"
   ]
  },
  {
   "cell_type": "markdown",
   "metadata": {},
   "source": [
    "<a rel=\"license\" href=\"http://creativecommons.org/licenses/by-nc/4.0/\"><img alt=\"Creative Commons License\" style=\"border-width:0\" src=\"https://i.creativecommons.org/l/by-nc/4.0/88x31.png\" /></a><br />This work is licensed under a <a rel=\"license\" href=\"http://creativecommons.org/licenses/by-nc/4.0/\">Creative Commons Attribution-NonCommercial 4.0 International License</a>."
   ]
  }
 ],
 "metadata": {
  "kernelspec": {
   "display_name": "Python 2 (SageMath)",
   "language": "python",
   "name": "python2"
  },
  "language_info": {
   "codemirror_mode": {
    "name": "ipython",
    "version": 2
   },
   "file_extension": ".py",
   "mimetype": "text/x-python",
   "name": "python",
   "nbconvert_exporter": "python",
   "pygments_lexer": "ipython2",
   "version": "2.7.10"
  },
  "name": "lecture3.ipynb"
 },
 "nbformat": 4,
 "nbformat_minor": 0
}
