{
 "cells": [
  {
   "cell_type": "markdown",
   "metadata": {
    "slideshow": {
     "slide_type": "slide"
    }
   },
   "source": [
    "# Lecture 7: Characterizing networks with fading channels                 "
   ]
  },
  {
   "cell_type": "markdown",
   "metadata": {
    "slideshow": {
     "slide_type": "slide"
    }
   },
   "source": [
    "## 1. Aggregate interference without fading"
   ]
  },
  {
   "cell_type": "markdown",
   "metadata": {},
   "source": [
    "Let $\\ell: \\mathbb{R}^d \\mapsto \\mathbb{R}$. If $\\Phi$ is a point process that models the positions of transmitters (all transmitting at unit power without considering fading), the sum power measured at location $y$ is given by:\n",
    "\n",
    "<br><center>$ \\displaystyle I(y)  = \\sum\\limits_{x \\in \\Phi} \\ell(y-x), \\;\\; y \\in \\mathbb{R}^d.$ </center></br>\n",
    "\n",
    "It is interesting to note that $I(y)$ is a *shot-noise random field*. If $\\ell(x) = ||x||^{-\\alpha}$ (or a bounded version of it), then we have a *power-law shot-noise random field*. More details of it can be found in the reference."
   ]
  },
  {
   "cell_type": "markdown",
   "metadata": {},
   "source": [
    "### 1.1 Mean interference"
   ]
  },
  {
   "cell_type": "markdown",
   "metadata": {},
   "source": [
    "**Exercise:** Let $\\Phi$ be a homogeneous Poisson point process with intensity $\\lambda$ in $\\mathbb{R}^2$. What is the $\\mathbb{E}I$ when (a) $\\ell(x) = ||x||^{-\\alpha}$ and (b) $\\ell(x) = \\min(1,||x||^{-\\alpha})$ for $\\alpha>2$? What is the difference?\n",
    "\n",
    "\n",
    "*Hint (Campbell Theorem):* Let $\\Phi$ be a point process in  $\\mathbb{R}^d$ and $f:\\mathbb{R}^d \\mapsto \\mathbb{R}$ be a measurable function. Then the random sum:\n",
    "\n",
    "<br><center> $S = \\displaystyle{\\sum\\limits_{x \\in \\Phi} f(x)}$ </center></br>\n",
    "\n",
    "is a random variable with mean\n",
    "\n",
    "<br><center> $\\mathbb{E}S = \\displaystyle{\\int_{\\mathbb{R}^d} f(x) \\; \\Lambda(\\mathrm{d}x)}.$ </center></br>\n",
    "\n",
    "\n",
    "If $\\Phi$ has an intensity function $\\lambda(x)$, then\n",
    "\n",
    "<br><center> $\\mathbb{E}S = \\displaystyle{\\int_{\\mathbb{R}^d} f(x) \\lambda(x) \\; \\mathrm{d}x}.$ </center></br>"
   ]
  },
  {
   "cell_type": "markdown",
   "metadata": {},
   "source": [
    "### 1.2 Interference distribution"
   ]
  },
  {
   "cell_type": "markdown",
   "metadata": {
    "slideshow": {
     "slide_type": "fragment"
    }
   },
   "source": [
    "*Review:* In our lecture 5, we saw that we can **lower-bound** the aggregate interference by using the nearest point (closest interferer). When $\\Phi$ be a homogeneous Poisson point process with intensity $\\lambda$ in $\\mathbb{R}^2$ and $\\ell(x) = ||x||^{-\\alpha}$, we have\n",
    "\n",
    "<br><center>$\\displaystyle \\mathbb{P} (I_1 \\leq x) = \\mathbb{P} (R_1^{-\\alpha} \\leq x) = \\mathbb{P} (R_1 \\leq x^{-1/\\alpha} ) = e^{-\\lambda \\pi x^{-2/\\alpha}},$ </center></br>\n",
    "\n",
    "with mean: \n",
    "\n",
    "<br><center>$\\displaystyle \\mathbb{E}I_1 = \\pi^{\\alpha/2}\\;\\Gamma\\left(1 - \\frac{\\alpha}{2}\\right).$ </center></br>\n",
    "\n",
    "Note that if $\\alpha > 2$, the $\\mathbb{E}I_1$ does not exist. This means that even the mean interference related to the closest transmitter is infinite when the *singular* path-loss is assumed. These expressions can be also generalized to the $n$th nearest intereferer.\n",
    "\n",
    "**Closed-form expression:** The Fourrier transform of the aggregate interference distribution when $\\alpha>2$ is computed as:\n",
    "\n",
    "<br><center>$\\displaystyle \\mathcal{F}_I(\\omega) = \\exp\\left( -\\lambda \\pi \\Gamma\\left(1 - \\frac{\\alpha}{2}\\right) \\omega^{2/\\alpha} e^{j \\pi/\\alpha} \\right).$ </center></br>\n",
    "\n",
    "When $\\alpha = 4$, we have the only case where the closed-form expression for the density exists:\n",
    "\n",
    "<br><center>$\\displaystyle f_I(x) = \\dfrac{\\pi \\lambda}{2 x^{3/2}} \\exp\\left( - \\frac{\\pi^3 \\lambda^2}{4x}\\right).$ </center></br>\n"
   ]
  },
  {
   "cell_type": "markdown",
   "metadata": {},
   "source": [
    "*Outline of proof*\n",
    "\n",
    "[Step 1] Consider the interference from nodes located within a given distance $a$. Note that When $a \\rightarrow \\infty$, then $I_a \\rightarrow I$.\n",
    "\n",
    "[Step 2] Find the Fourrier transform of $I_a$, conditioning on the existence of $k$ nodes that are uniformly distributed in the area determined by $a$.\n",
    "\n",
    "[Step 3] Unconditioning the Fourried transform knowing that the distribution on nodes is Poisson, which can be interpreted as the Taylor distribution of the exponential function.\n",
    "\n",
    "[Step 4] After manipulation, we find that the integral diverge if $\\alpha\\leq2$. When $\\alpha > 2$ we have the equation presented above."
   ]
  },
  {
   "cell_type": "code",
   "execution_count": 3,
   "metadata": {
    "collapsed": false
   },
   "outputs": [],
   "source": [
    "import numpy as np\n",
    "from scipy.spatial import distance\n",
    "from __future__ import division\n",
    "\n",
    "#pathloss\n",
    "alpha=4\n",
    "#Average number of points (Poisson)\n",
    "x_average_PPP = 100\n",
    "#Square side: L\n",
    "L = 50\n",
    "#\n",
    "num_realizations = 1000\n",
    "interference = np.zeros(num_realizations)\n",
    "for count in range(0, num_realizations):\n",
    "        #Number of points N that is a Poisson random variable \n",
    "        x_realization_PPP = np.random.poisson(x_average_PPP,1)\n",
    "        #Random points in axis x\n",
    "        position_x_realization_PPP =  np.random.uniform(0,L,x_realization_PPP)\n",
    "        #Random points in axis y\n",
    "        position_y_realization_PPP = np.random.uniform(0,L,x_realization_PPP) \n",
    "        #Manipulating arrays\n",
    "        position_x_realization_PPP_t=np.transpose(position_x_realization_PPP)\n",
    "        position_y_realization_PPP_t=np.transpose(position_y_realization_PPP)\n",
    "        position_final = []\n",
    "        position_final = [[position_x_realization_PPP_t[ix], position_y_realization_PPP_t[ix]] for ix in range(0, x_realization_PPP)]\n",
    "        #Distances to the origin (L/2,L/2)\n",
    "        distances_to_origin = [distance.euclidean(position_final[ix],[L/2,L/2]) for ix in range(0, x_realization_PPP)]\n",
    "        #getting the power of each interferer\n",
    "        path_loss = np.array([distances_to_origin[xx]**(-alpha) for xx in range(0, x_realization_PPP)])\n",
    "        #computing aggregate interference\n",
    "        interference[count] = sum(path_loss) \n",
    "        count = count + 1\n",
    "\n",
    "#print interference\n",
    "#print np.mean(interference)\n",
    "#print interference"
   ]
  },
  {
   "cell_type": "code",
   "execution_count": 5,
   "metadata": {
    "collapsed": false
   },
   "outputs": [
    {
     "data": {
      "image/png": "[encoded data removed]",
      "text/plain": [
       "<matplotlib.figure.Figure at 0x7f4b254c8910>"
      ]
     },
     "metadata": {},
     "output_type": "display_data"
    }
   ],
   "source": [
    "#Testing pdf\n",
    "import matplotlib.pyplot as plt\n",
    "from __future__ import division\n",
    "x = np.linspace(0.1,20,100)\n",
    "#\n",
    "plt.figure(figsize=(10,8), dpi=1200)\n",
    "plt.hist(interference,10000,normed=1, color=\"#6495ED\")\n",
    "plt.axis([0,20,0,1])\n",
    "#\n",
    "plt.plot(x, (np.pi *(x_average_PPP/(L**2))/(2*x**(1.5)) * np.exp(- (np.pi**3 * (x_average_PPP/(L**2))**2)/(4*x) )), '-')\n",
    "plt.show()"
   ]
  },
  {
   "cell_type": "markdown",
   "metadata": {},
   "source": [
    "## 2. Aggregate interference with fading"
   ]
  },
  {
   "cell_type": "markdown",
   "metadata": {
    "slideshow": {
     "slide_type": "fragment"
    }
   },
   "source": [
    "Let  $\\tilde{\\Phi} = \\{ (x_i, h_i)\\}$ be marked process such that $\\Phi = \\{ x_i\\}$ reprensents the location of the transmitters and $h_i$ is the mark related to the fading coefficient gain associated to a probability distribution, which are assumed independent and identically distributed random variables. \n",
    "\n",
    "The aggregate interference at the origin is then:\n",
    "\n",
    "<br><center>$ \\displaystyle I  = \\sum\\limits_{x \\in \\Phi} h_x \\ell(x).$ </center></br>\n",
    "\n",
    "To manipulate this random variable, we would like to compute the Laplace transform of $I$.\n",
    "\n",
    "<br><center>$ \\displaystyle \\mathcal{L}(s) = \\mathbb{E} e^{-sI}  = \\mathbb{E}\\left( \\prod\\limits_{x\\in \\Phi} e^{-s h_x \\ell(x)}  \\right) = \n",
    "\\mathbb{E}_\\Phi\\left( \\prod\\limits_{x\\in \\Phi} \\mathbb{E}_h \\left( e^{-s h_x \\ell(x)} \\right)  \\right).$ </center></br> \n",
    "\n"
   ]
  },
  {
   "cell_type": "markdown",
   "metadata": {},
   "source": [
    "If we assume that $\\Phi$ is a uniform Poisson point process in $\\mathbb{R}^2$ with density $\\lambda$, then we can map the process to one dimension such that:\n",
    "\n",
    "<br><center>$\\displaystyle \\lambda(r) = \\int_{b(o,r)} \\lambda(x) \\; \\mathrm{d}x =  \\lambda \\; 2 \\pi r$.</center></br> \n",
    "\n",
    "Note that this can be extended to $\\mathbb{R}^d$.\n",
    "\n",
    "Now let us review the probability generating functional (pgfl):\n",
    "\n",
    "**Theorem:** Let $v \\in \\mathcal{V}$ be measurable, and $\\Phi$ be a Poisson process with intensity $\\Lambda$. Then:\n",
    "\n",
    "<br><center> \n",
    "$\\displaystyle G[v] \\triangleq \\mathbb{E}\\left( \\prod\\limits_{x\\in \\phi} v(x) \\right) = \\exp\\left( - \\int_{\\mathbb{R}^d} (1-v(x)) \\; \\Lambda(\\mathrm{d}x)  \\right).$\n",
    "</center></br>\n",
    "\n",
    "Now we would like to compute the pglf when $v(r) = \\mathbb{E}_h\\left( e^{-sh\\ell(r)}\\right)$. Then:\n",
    "\n",
    "<br><center> \n",
    "$\\displaystyle G[v] = \\mathbb{E}_\\Phi\\left( \\prod\\limits_{x\\in \\Phi} \\mathbb{E}_h \\left( e^{-s h_x \\ell(x)} \\right)  \\right) =  \\exp\\left( - \\int_0^\\infty \\mathbb{E}_h\\left(1- e^{-sh\\ell(r)}\\right) \\lambda(r) \\; \\mathrm{d}r  \\right).$\n",
    "</center></br>\n",
    "\n",
    "From this, we have:\n",
    "\n",
    "<br><center> \n",
    "$\\displaystyle \\mathcal{L}(s) = \\mathbb{E}_\\Phi\\left( \\prod\\limits_{x\\in \\Phi} \\mathbb{E}_h \\left( e^{-s h_x \\ell(x)} \\right)  \\right) = G[v] = \\exp\\left( - \\int_0^\\infty \\mathbb{E}_h\\left(1- e^{-sh\\ell(r)}\\right) \\lambda(r) \\; \\mathrm{d}r  \\right) .$\n",
    "</center></br>\n",
    "\n",
    "Now we should analyze the integral conditioning on $h$:\n",
    "\n",
    "<br><center> \n",
    "$\\displaystyle  \\int_0^\\infty \\left(1- e^{-sh\\ell(r)}\\right) \\lambda(r) \\; \\mathrm{d}r = \\lambda \\pi (hs)^{2/\\alpha} \\Gamma\\left(1 - \\dfrac{2}{\\alpha} \\right).$\n",
    "</center></br>\n",
    "\n",
    "The Laplace is therefore:\n",
    "\n",
    "<br><center> \n",
    "$\\displaystyle \\mathcal{L}(s) = \\exp\\left( - \\lambda \\pi \\mathbb{E}_h\\left(h^{2/\\alpha}\\right)  s^{2/\\alpha} \\; \\Gamma\\left(1 - \\dfrac{2}{\\alpha} \\right)\\right).$\n",
    "</center></br>\n"
   ]
  },
  {
   "cell_type": "markdown",
   "metadata": {},
   "source": [
    "For example, when Rayleigh fading is considered, $h$ is an exponential distribution such that the cdf is $F_X(x) = 1 -e^{-x}$ if $x\\geq 0$ and $F_X(x) = 0$ if $x<0$.  Then: $\\mathbb{E}_h\\left(h^{2/\\alpha}\\right) = \\Gamma\\left(1 + \\dfrac{2}{\\alpha} \\right)$."
   ]
  },
  {
   "cell_type": "markdown",
   "metadata": {},
   "source": [
    "### 3. Success and outage probabilities"
   ]
  },
  {
   "cell_type": "markdown",
   "metadata": {},
   "source": [
    "**Definition:** Let us define the success probability as the probability that the signal-to-interference ratio is greater than a given threshold determined by the coding-decoding scheme considered, i.e. $p_\\textrm{s} = \\mathbb{P}(\\textrm{SIR}> \\beta)$. The outage probability is the probability that the message is not successfuly decoded, i.e. $p_\\textrm{o} =\\mathbb{P}(\\textrm{SIR} \\leq \\beta) = 1- p_\\textrm{s}$.\n",
    "\n",
    "**Exercise:** Let  $\\tilde{\\Phi} = \\{ (x_i, h_i)\\}$ be marked Poisson point process in $\\mathbb{R}^2$ such that $\\Phi = \\{ x_i\\}$ reprensents the location of the transmitters and $h_i$ is the mark related to the fading coefficient gain in relation to the origin where the receiver of the link under analysis is located. We assume that $h_i$ are exponential, independent and identically distributed, random variables (i.e. Rayleigh fading) with mean 1. If the links are also subject to a distance-dependent path-loss function $\\ell(x) = ||x||^{-\\alpha}$ , compute the success probability \n",
    "$\\mathbb{P}(\\textrm{SIR}_o > \\beta)$. Compare this result with the bound derived in the scenario without fading."
   ]
  },
  {
   "cell_type": "code",
   "execution_count": 6,
   "metadata": {
    "collapsed": false
   },
   "outputs": [],
   "source": [
    "#Testing\n",
    "import numpy as np\n",
    "from scipy.spatial import distance\n",
    "from __future__ import division\n",
    "#pathloss\n",
    "alpha=3\n",
    "#SIR required\n",
    "beta= 3\n",
    "#aloha prob\n",
    "p=1\n",
    "#Average number of points (Poisson)\n",
    "x_average_PPP = p*25\n",
    "#Square side: L\n",
    "L = 30\n",
    "#number of realizations to get the outage prob for 1 point\n",
    "num_realizations = 2000\n",
    "#number of simulation points\n",
    "num_of_point_for_outage = 50\n",
    "#\n",
    "outage_prob = np.zeros(num_of_point_for_outage)\n",
    "r = np.linspace(0,4,num_of_point_for_outage)\n",
    "\n",
    "for count2 in range(1, num_of_point_for_outage):\n",
    "    outage = 0\n",
    "    for count in range(0, num_realizations):\n",
    "        #Number of points N that is a Poisson random variable \n",
    "        x_realization_PPP = np.random.poisson(x_average_PPP,1)\n",
    "        #Random points in axis x\n",
    "        position_x_realization_PPP =  np.random.uniform(0,L,x_realization_PPP)\n",
    "        #Random points in axis y\n",
    "        position_y_realization_PPP = np.random.uniform(0,L,x_realization_PPP) \n",
    "        #Manipulating arrays\n",
    "        position_x_realization_PPP_t=np.transpose(position_x_realization_PPP)\n",
    "        position_y_realization_PPP_t=np.transpose(position_y_realization_PPP)\n",
    "        position_final = []\n",
    "        position_final = [[position_x_realization_PPP_t[ix], position_y_realization_PPP_t[ix]] for ix in range(0, x_realization_PPP)]\n",
    "        #Distances to the origin (L/2,L/2)\n",
    "        distances_to_origin = [distance.euclidean(position_final[ix],[L/2,L/2]) for ix in range(0, x_realization_PPP)]\n",
    "        #getting the power of each interferer\n",
    "        path_loss_fading = np.array([np.random.exponential(1) * distances_to_origin[xx]**(-alpha) for xx in range(0, x_realization_PPP)])\n",
    "        #computing aggregate interference\n",
    "        interference = sum(path_loss_fading)\n",
    "        if (np.random.exponential(1) * r[count2]**(-alpha)/interference) <= beta:\n",
    "                outage = outage + 1   \n",
    "        count = count + 1\n",
    "    outage_prob[count2] = outage/count\n",
    "    count2 = count2 + 1\n",
    "#print outage_prob"
   ]
  },
  {
   "cell_type": "code",
   "execution_count": 9,
   "metadata": {
    "collapsed": false
   },
   "outputs": [
    {
     "data": {
      "image/png": "[encoded data removed]",
      "text/plain": [
       "<matplotlib.figure.Figure at 0x7f4b0e55ec90>"
      ]
     },
     "metadata": {},
     "output_type": "display_data"
    }
   ],
   "source": [
    "#Testing\n",
    "import statsmodels.api as sm # recommended import according to the docs\n",
    "import matplotlib.pyplot as plt\n",
    "import math\n",
    "#\n",
    "k = math.gamma(1 + 2/alpha) * math.gamma(1- 2/alpha)\n",
    "\n",
    "plt.figure(figsize=(10,8), dpi=1200)\n",
    "plt.plot(r,outage_prob,'o k',label = \"Simulation\")\n",
    "x = np.linspace(0,4,100)\n",
    "plt.xlabel('$r$', fontsize=16)\n",
    "plt.ylabel('Outage probability', fontsize=16)\n",
    "plt.plot(x, 1 -  np.exp(- (x**2) * beta**(2/alpha) * k * np.pi * p * x_average_PPP/(L**2)),'k-' ,label = \"Analysis\")\n",
    "plt.axis([0,4,0,1])\n",
    "plt.legend(loc=2,fontsize=16)\n",
    "plt.show()"
   ]
  },
  {
   "cell_type": "markdown",
   "metadata": {
    "slideshow": {
     "slide_type": "slide"
    }
   },
   "source": [
    "## 4. References"
   ]
  },
  {
   "cell_type": "markdown",
   "metadata": {
    "slideshow": {
     "slide_type": "subslide"
    }
   },
   "source": [
    "[1] M. Haenggi, *Stochastic Geometry for Wireless Networks*, pages 93-105."
   ]
  },
  {
   "cell_type": "code",
   "execution_count": null,
   "metadata": {
    "collapsed": true
   },
   "outputs": [],
   "source": []
  }
 ],
 "metadata": {
  "kernelspec": {
   "display_name": "Python 2 (SageMath)",
   "language": "python",
   "name": "python2"
  },
  "language_info": {
   "codemirror_mode": {
    "name": "ipython",
    "version": 2
   },
   "file_extension": ".py",
   "mimetype": "text/x-python",
   "name": "python",
   "nbconvert_exporter": "python",
   "pygments_lexer": "ipython2",
   "version": "2.7.10"
  },
  "name": "lecture7.ipynb"
 },
 "nbformat": 4,
 "nbformat_minor": 0
}
